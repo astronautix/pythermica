{
 "cells": [
  {
   "cell_type": "markdown",
   "metadata": {},
   "source": [
    "# Thermica Post Process"
   ]
  },
  {
   "cell_type": "code",
   "execution_count": 1,
   "metadata": {
    "pycharm": {
     "is_executing": false
    }
   },
   "outputs": [],
   "source": [
    "\n",
    "import numpy as np\n",
    "%matplotlib inline\n",
    "import matplotlib.pyplot as plt\n",
    "import matplotlib as mpl\n",
    "mpl.rcParams['figure.dpi']= 300\n",
    "\n",
    "\n",
    "from pythermica import  Thermica\n"
   ]
  },
  {
   "cell_type": "code",
   "execution_count": 2,
   "metadata": {
    "pycharm": {
     "is_executing": false
    }
   },
   "outputs": [
    {
     "name": "stdout",
     "text": [
      "Initializing Thermica at path :\n./simulation_1/results_1/\nFiles present in the path :\n./simulation_1/results_1/ionsat_deployed_3.0.pf.h5\n./simulation_1/results_1/ionsat_deployed_3.0.rad.h5\n./simulation_1/results_1/ionsat_deployed_3.1.pf.h5\n./simulation_1/results_1/ionsat_deployed_3.1.rad.h5\n./simulation_1/results_1/ionsat_deployed_3.1.edg.h5\n./simulation_1/results_1/ionsat_deployed.temp.h5\n./simulation_1/results_1/ionsat_deployed_3.1.sf.h5\n./simulation_1/results_1/ionsat_deployed_3.0.edg.h5\n./simulation_1/results_1/ionsat_deployed_3.1.box.h5\n./simulation_1/results_1/ionsat_deployed_3.0.sf.h5\n./simulation_1/results_1/ionsat_deployed_3.0.temp.h5\n./simulation_1/results_1/ionsat_deployed_3.0.box.h5\nWARNING !!!  Too many temperature files ! \n We will use the first one in the list\nWe have some names :\n/Chassis bottom center\n/Chassis bottom left\n/Chassis bottom right\n/Chassis side front\n/Chassis side back left\n/Chassis side back right\n/Chassis side left\n/Chassis side right\n/Chassis top\n/Chassis propeller support left\n/Chassis propeller support right\n/Solar panel center\n/Solar panel left\n/Solar panel right\n/Propeller side front\n/Propeller side left\n/Propeller side right\n/Propeller top\n/Propeller bottom\n/Propeller side back\n/Band S front\n/Band S bottom\n/Batteries\n/Transponder (1)\n/Printed Circuits\n/Powercard P60\nSpace Node\n\n56 nodes in  /Chassis bottom center  starting at 100\n10 nodes in  /Chassis bottom left  starting at 200\n10 nodes in  /Chassis bottom right  starting at 300\n32 nodes in  /Chassis side front  starting at 400\n8 nodes in  /Chassis side back left  starting at 500\n8 nodes in  /Chassis side back right  starting at 600\n96 nodes in  /Chassis side left  starting at 700\n96 nodes in  /Chassis side right  starting at 800\n96 nodes in  /Chassis top  starting at 900\n20 nodes in  /Chassis propeller support left  starting at 1000\n20 nodes in  /Chassis propeller support right  starting at 1100\n70 nodes in  /Solar panel center  starting at 1200\n96 nodes in  /Solar panel left  starting at 1300\n96 nodes in  /Solar panel right  starting at 1400\n16 nodes in  /Propeller side front  starting at 1500\n1 nodes in  /Propeller side left  starting at 1600\n1 nodes in  /Propeller side right  starting at 1700\n20 nodes in  /Propeller top  starting at 1800\n20 nodes in  /Propeller bottom  starting at 1900\n16 nodes in  /Propeller side back  starting at 2000\n16 nodes in  /Band S front  starting at 2100\n16 nodes in  /Band S bottom  starting at 2200\n14 nodes in  /Batteries  starting at 2300\n7 nodes in  /Transponder (1)  starting at 2500\n7 nodes in  /Printed Circuits  starting at 2600\n7 nodes in  /Powercard P60  starting at 2700\n1 nodes in  Space Node  starting at 99999999\n"
     ],
     "output_type": "stream"
    }
   ],
   "source": [
    "\n",
    "path = \"./simulation_1/results_1/\"\n",
    "\n",
    "therm_results = Thermica(path)"
   ]
  },
  {
   "cell_type": "code",
   "execution_count": 3,
   "metadata": {
    "pycharm": {
     "is_executing": false
    }
   },
   "outputs": [
    {
     "traceback": [
      "\u001b[0;31m---------------------------------------------------------------------------\u001b[0m",
      "\u001b[0;31mAttributeError\u001b[0m                            Traceback (most recent call last)",
      "\u001b[0;32m<ipython-input-3-26f76f17efea>\u001b[0m in \u001b[0;36m<module>\u001b[0;34m\u001b[0m\n\u001b[1;32m     27\u001b[0m     \u001b[0;32mreturn\u001b[0m \u001b[0mnames_with_dissipation\u001b[0m\u001b[0;34m,\u001b[0m \u001b[0mtotal_dissipation_by_names\u001b[0m\u001b[0;34m\u001b[0m\u001b[0;34m\u001b[0m\u001b[0m\n\u001b[1;32m     28\u001b[0m \u001b[0;34m\u001b[0m\u001b[0m\n\u001b[0;32m---> 29\u001b[0;31m \u001b[0mnames_with_dissipation\u001b[0m\u001b[0;34m,\u001b[0m \u001b[0mtotal_dissipation_by_names\u001b[0m \u001b[0;34m=\u001b[0m \u001b[0mfind_internal_dissipations\u001b[0m\u001b[0;34m(\u001b[0m\u001b[0;34m)\u001b[0m\u001b[0;34m\u001b[0m\u001b[0;34m\u001b[0m\u001b[0m\n\u001b[0m\u001b[1;32m     30\u001b[0m \u001b[0mprint\u001b[0m\u001b[0;34m(\u001b[0m\u001b[0;34m)\u001b[0m\u001b[0;34m\u001b[0m\u001b[0;34m\u001b[0m\u001b[0m\n\u001b[1;32m     31\u001b[0m \u001b[0;34m[\u001b[0m\u001b[0mprint\u001b[0m\u001b[0;34m(\u001b[0m\u001b[0;34mf\"{n:30s} : maximum {p:3.2f} W dissipated\"\u001b[0m\u001b[0;34m)\u001b[0m \u001b[0;32mfor\u001b[0m \u001b[0mn\u001b[0m\u001b[0;34m,\u001b[0m \u001b[0mp\u001b[0m \u001b[0;32min\u001b[0m \u001b[0mzip\u001b[0m\u001b[0;34m(\u001b[0m\u001b[0mnames_with_dissipation\u001b[0m\u001b[0;34m,\u001b[0m \u001b[0mtotal_dissipation_by_names\u001b[0m\u001b[0;34m)\u001b[0m\u001b[0;34m]\u001b[0m\u001b[0;34m;\u001b[0m\u001b[0;34m\u001b[0m\u001b[0;34m\u001b[0m\u001b[0m\n",
      "\u001b[0;32m<ipython-input-3-26f76f17efea>\u001b[0m in \u001b[0;36mfind_internal_dissipations\u001b[0;34m(thermica_obj)\u001b[0m\n\u001b[1;32m      3\u001b[0m \u001b[0;34m\u001b[0m\u001b[0m\n\u001b[1;32m      4\u001b[0m \u001b[0;34m\u001b[0m\u001b[0m\n\u001b[0;32m----> 5\u001b[0;31m     \u001b[0mint_dissip\u001b[0m \u001b[0;34m=\u001b[0m \u001b[0mthermica_obj\u001b[0m\u001b[0;34m.\u001b[0m\u001b[0mread_temperature\u001b[0m\u001b[0;34m(\u001b[0m\u001b[0;34m\"Results\"\u001b[0m\u001b[0;34m,\u001b[0m \u001b[0;34m\"Thermal\"\u001b[0m\u001b[0;34m,\u001b[0m \u001b[0;34m\"Internal dissipations\"\u001b[0m \u001b[0;34m)\u001b[0m\u001b[0;34m\u001b[0m\u001b[0;34m\u001b[0m\u001b[0m\n\u001b[0m\u001b[1;32m      6\u001b[0m \u001b[0;34m\u001b[0m\u001b[0m\n\u001b[1;32m      7\u001b[0m     \u001b[0;34m\"\"\"find the nodes where there is some dissipation during the simulation\"\"\"\u001b[0m\u001b[0;34m\u001b[0m\u001b[0;34m\u001b[0m\u001b[0m\n",
      "\u001b[0;31mAttributeError\u001b[0m: 'Thermica' object has no attribute 'read_temperature'"
     ],
     "ename": "AttributeError",
     "evalue": "'Thermica' object has no attribute 'read_temperature'",
     "output_type": "error"
    }
   ],
   "source": [
    "def find_internal_dissipations(thermica_obj=therm_results):\n",
    "    \"\"\"Find where and how much internal dissipation is present\"\"\"\n",
    "\n",
    "   \n",
    "    int_dissip = thermica_obj.read_temperature( )\n",
    "\n",
    "    \"\"\"find the nodes where there is some dissipation during the simulation\"\"\"\n",
    "    max_dissipations_over_time = int_dissip.max(axis=1)\n",
    "\n",
    "    node_index_mask_dissipation = max_dissipations_over_time > 0.0\n",
    "\n",
    "    \n",
    "    names_with_dissipation = []\n",
    "    total_dissipation_by_names = []\n",
    "\n",
    "    for node_label, nodes_list_for_label in zip(therm_results.names_unique, therm_results.nodes_per_names):\n",
    "\n",
    "        node_indexes_for_label = np.array([np.where(n==therm_results.node_liste)[0][0] for n in nodes_list_for_label])\n",
    "\n",
    "        if any(node_index_mask_dissipation[node_indexes_for_label]) :\n",
    "            \"yes dissipation\"\n",
    "            names_with_dissipation.append(node_label)\n",
    "            total_dissipation_by_names.append( max_dissipations_over_time[node_indexes_for_label].sum() )\n",
    "        else:\n",
    "            \"no dissipation\"\n",
    "            \n",
    "    return names_with_dissipation, total_dissipation_by_names\n",
    "\n",
    "names_with_dissipation, total_dissipation_by_names = find_internal_dissipations()\n",
    "print()\n",
    "[print(f\"{n:30s} : maximum {p:3.2f} W dissipated\") for n, p in zip(names_with_dissipation, total_dissipation_by_names)];"
   ]
  },
  {
   "cell_type": "code",
   "execution_count": null,
   "metadata": {
    "pycharm": {
     "is_executing": false
    }
   },
   "outputs": [],
   "source": [
    "def plot_internal_dissipation(thermica_obj=therm_results):\n",
    "    \n",
    "    names_with_dissipation, total_dissipation_by_names = find_internal_dissipations(thermica_obj)\n",
    "    time_temperature = thermica_obj.return_time_temperature()\n",
    "    int_dissip = thermica_obj.get_internal_dissipation()\n",
    "\n",
    "    total_power_variation = np.zeros_like(time_temperature)\n",
    "\n",
    "        \n",
    "    plt.figure()\n",
    "\n",
    "    for node_label, nodes_list_for_label in zip(therm_results.names_unique, therm_results.nodes_per_names):\n",
    "\n",
    "        power_variation = np.zeros_like(time_temperature)\n",
    "\n",
    "        if node_label in names_with_dissipation:\n",
    "\n",
    "            node_indexes_for_label = np.array([np.where(n==therm_results.node_liste)[0][0] for n in nodes_list_for_label])\n",
    "\n",
    "            for indice in node_indexes_for_label:\n",
    "                power_variation += int_dissip.T[:, indice]\n",
    "\n",
    "            plt.plot(time_temperature - time_temperature[0], power_variation, label=node_label[1:])\n",
    "            \n",
    "            total_power_variation += power_variation\n",
    "    \n",
    "    plt.plot(time_temperature - time_temperature[0], total_power_variation, \"k\", label=\"total\")\n",
    "    \n",
    "    plt.legend()\n",
    "    plt.grid(color=\"grey\")\n",
    "    plt.xlabel(\"time [hr]\")\n",
    "    plt.ylabel(\"Power [W]\")\n",
    "    \n",
    "plot_internal_dissipation()\n",
    "plt.savefig(\"internal_dissipated_power.png\", dpi=300)"
   ]
  },
  {
   "cell_type": "code",
   "execution_count": null,
   "metadata": {
    "pycharm": {
     "is_executing": false
    }
   },
   "outputs": [],
   "source": [
    "path = \"./simulation_1/results_2/\"\n",
    "\n",
    "therm_results = Thermica(path)\n",
    "\n",
    "plot_internal_dissipation(therm_results)\n",
    "plt.savefig(\"internal_dissipated_power_typical_case.png\", dpi=300)"
   ]
  },
  {
   "cell_type": "code",
   "execution_count": null,
   "metadata": {
    "pycharm": {
     "is_executing": false
    }
   },
   "outputs": [],
   "source": []
  }
 ],
 "metadata": {
  "kernelspec": {
   "display_name": "Python 3",
   "language": "python",
   "name": "python3"
  },
  "language_info": {
   "codemirror_mode": {
    "name": "ipython",
    "version": 3
   },
   "file_extension": ".py",
   "mimetype": "text/x-python",
   "name": "python",
   "nbconvert_exporter": "python",
   "pygments_lexer": "ipython3",
   "version": "3.8.7"
  },
  "pycharm": {
   "stem_cell": {
    "cell_type": "raw",
    "source": [],
    "metadata": {
     "collapsed": false
    }
   }
  }
 },
 "nbformat": 4,
 "nbformat_minor": 4
}
