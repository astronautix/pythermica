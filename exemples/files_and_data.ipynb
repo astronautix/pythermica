{
 "cells": [
  {
   "cell_type": "code",
   "execution_count": 2,
   "metadata": {},
   "outputs": [
    {
     "name": "stdout",
     "output_type": "stream",
     "text": [
      "Initializing Thermica at path :\n",
      "./simulation_1/results_1/\n",
      "Files present in the path :\n",
      "simulation_1/results_1/ionsat_deployed_3.0.pf.h5\n",
      "simulation_1/results_1/ionsat_deployed_3.0.sf.h5\n",
      "simulation_1/results_1/ionsat_deployed_3.1.rad.h5\n",
      "simulation_1/results_1/ionsat_deployed.temp.h5\n",
      "simulation_1/results_1/ionsat_deployed_3.1.edg.h5\n",
      "simulation_1/results_1/ionsat_deployed_3.0.temp.h5\n",
      "simulation_1/results_1/ionsat_deployed_3.0.edg.h5\n",
      "simulation_1/results_1/ionsat_deployed_3.0.rad.h5\n",
      "simulation_1/results_1/ionsat_deployed_3.1.box.h5\n",
      "simulation_1/results_1/ionsat_deployed_3.0.box.h5\n",
      "simulation_1/results_1/ionsat_deployed_3.1.pf.h5\n",
      "simulation_1/results_1/ionsat_deployed_3.1.sf.h5\n",
      "WARNING : Multiple files match the temperature extention\n",
      "\n",
      " the temperature files are :\n",
      "[PosixPath('simulation_1/results_1/ionsat_deployed.temp.h5'), PosixPath('simulation_1/results_1/ionsat_deployed_3.0.temp.h5')]\n",
      "We have some names :\n",
      "['/Chassis bottom center', '/Chassis bottom left', '/Chassis bottom right', '/Chassis side front', '/Chassis side back left', '/Chassis side back right', '/Chassis side left', '/Chassis side right', '/Chassis top', '/Chassis propeller support left', '/Chassis propeller support right', '/Solar panel center', '/Solar panel left', '/Solar panel right', '/Propeller side front', '/Propeller side left', '/Propeller side right', '/Propeller top', '/Propeller bottom', '/Propeller side back', '/Band S front', '/Band S bottom', '/Batteries', '/Transponder (1)', '/Printed Circuits', '/Powercard P60', 'Space Node']\n",
      "\n",
      "nodes in  /Chassis bottom center\n",
      "[100, 101, 102, 103, 104, 105, 106, 107, 108, 109, 110, 111, 112, 113, 114, 115, 116, 117, 118, 119, 120, 121, 122, 123, 124, 125, 126, 127, 128, 129, 130, 131, 132, 133, 134, 135, 136, 137, 138, 139, 140, 141, 142, 143, 144, 145, 146, 147, 148, 149, 150, 151, 152, 153, 154, 155]\n",
      "nodes in  /Chassis bottom left\n",
      "[200, 201, 202, 203, 204, 205, 206, 207, 208, 209]\n",
      "nodes in  /Chassis bottom right\n",
      "[300, 301, 302, 303, 304, 305, 306, 307, 308, 309]\n",
      "nodes in  /Chassis side front\n",
      "[400, 401, 402, 403, 404, 405, 406, 407, 408, 409, 410, 411, 412, 413, 414, 415, 416, 417, 418, 419, 420, 421, 422, 423, 424, 425, 426, 427, 428, 429, 430, 431]\n",
      "nodes in  /Chassis side back left\n",
      "[500, 501, 502, 503, 504, 505, 506, 507]\n",
      "nodes in  /Chassis side back right\n",
      "[600, 601, 602, 603, 604, 605, 606, 607]\n",
      "nodes in  /Chassis side left\n",
      "[700, 701, 702, 703, 704, 705, 706, 707, 708, 709, 710, 711, 712, 713, 714, 715, 716, 717, 718, 719, 720, 721, 722, 723, 724, 725, 726, 727, 728, 729, 730, 731, 732, 733, 734, 735, 736, 737, 738, 739, 740, 741, 742, 743, 744, 745, 746, 747, 748, 749, 750, 751, 752, 753, 754, 755, 756, 757, 758, 759, 760, 761, 762, 763, 764, 765, 766, 767, 768, 769, 770, 771, 772, 773, 774, 775, 776, 777, 778, 779, 780, 781, 782, 783, 784, 785, 786, 787, 788, 789, 790, 791, 792, 793, 794, 795]\n",
      "nodes in  /Chassis side right\n",
      "[800, 801, 802, 803, 804, 805, 806, 807, 808, 809, 810, 811, 812, 813, 814, 815, 816, 817, 818, 819, 820, 821, 822, 823, 824, 825, 826, 827, 828, 829, 830, 831, 832, 833, 834, 835, 836, 837, 838, 839, 840, 841, 842, 843, 844, 845, 846, 847, 848, 849, 850, 851, 852, 853, 854, 855, 856, 857, 858, 859, 860, 861, 862, 863, 864, 865, 866, 867, 868, 869, 870, 871, 872, 873, 874, 875, 876, 877, 878, 879, 880, 881, 882, 883, 884, 885, 886, 887, 888, 889, 890, 891, 892, 893, 894, 895]\n",
      "nodes in  /Chassis top\n",
      "[900, 901, 902, 903, 904, 905, 906, 907, 908, 909, 910, 911, 912, 913, 914, 915, 916, 917, 918, 919, 920, 921, 922, 923, 924, 925, 926, 927, 928, 929, 930, 931, 932, 933, 934, 935, 936, 937, 938, 939, 940, 941, 942, 943, 944, 945, 946, 947, 948, 949, 950, 951, 952, 953, 954, 955, 956, 957, 958, 959, 960, 961, 962, 963, 964, 965, 966, 967, 968, 969, 970, 971, 972, 973, 974, 975, 976, 977, 978, 979, 980, 981, 982, 983, 984, 985, 986, 987, 988, 989, 990, 991, 992, 993, 994, 995]\n",
      "nodes in  /Chassis propeller support left\n",
      "[1000, 1001, 1002, 1003, 1004, 1005, 1006, 1007, 1008, 1009, 1010, 1011, 1012, 1013, 1014, 1015, 1016, 1017, 1018, 1019]\n",
      "nodes in  /Chassis propeller support right\n",
      "[1100, 1101, 1102, 1103, 1104, 1105, 1106, 1107, 1108, 1109, 1110, 1111, 1112, 1113, 1114, 1115, 1116, 1117, 1118, 1119]\n",
      "nodes in  /Solar panel center\n",
      "[1200, 1201, 1202, 1203, 1204, 1205, 1206, 1207, 1208, 1209, 1210, 1211, 1212, 1213, 1214, 1215, 1216, 1217, 1218, 1219, 1220, 1221, 1222, 1223, 1224, 1225, 1226, 1227, 1228, 1229, 1230, 1231, 1232, 1233, 1234, 1235, 1236, 1237, 1238, 1239, 1240, 1241, 1242, 1243, 1244, 1245, 1246, 1247, 1248, 1249, 1250, 1251, 1252, 1253, 1254, 1255, 1256, 1257, 1258, 1259, 1260, 1261, 1262, 1263, 1264, 1265, 1266, 1267, 1268, 1269]\n",
      "nodes in  /Solar panel left\n",
      "[1300, 1301, 1302, 1303, 1304, 1305, 1306, 1307, 1308, 1309, 1310, 1311, 1312, 1313, 1314, 1315, 1316, 1317, 1318, 1319, 1320, 1321, 1322, 1323, 1324, 1325, 1326, 1327, 1328, 1329, 1330, 1331, 1332, 1333, 1334, 1335, 1336, 1337, 1338, 1339, 1340, 1341, 1342, 1343, 1344, 1345, 1346, 1347, 1348, 1349, 1350, 1351, 1352, 1353, 1354, 1355, 1356, 1357, 1358, 1359, 1360, 1361, 1362, 1363, 1364, 1365, 1366, 1367, 1368, 1369, 1370, 1371, 1372, 1373, 1374, 1375, 1376, 1377, 1378, 1379, 1380, 1381, 1382, 1383, 1384, 1385, 1386, 1387, 1388, 1389, 1390, 1391, 1392, 1393, 1394, 1395]\n",
      "nodes in  /Solar panel right\n",
      "[1400, 1401, 1402, 1403, 1404, 1405, 1406, 1407, 1408, 1409, 1410, 1411, 1412, 1413, 1414, 1415, 1416, 1417, 1418, 1419, 1420, 1421, 1422, 1423, 1424, 1425, 1426, 1427, 1428, 1429, 1430, 1431, 1432, 1433, 1434, 1435, 1436, 1437, 1438, 1439, 1440, 1441, 1442, 1443, 1444, 1445, 1446, 1447, 1448, 1449, 1450, 1451, 1452, 1453, 1454, 1455, 1456, 1457, 1458, 1459, 1460, 1461, 1462, 1463, 1464, 1465, 1466, 1467, 1468, 1469, 1470, 1471, 1472, 1473, 1474, 1475, 1476, 1477, 1478, 1479, 1480, 1481, 1482, 1483, 1484, 1485, 1486, 1487, 1488, 1489, 1490, 1491, 1492, 1493, 1494, 1495]\n",
      "nodes in  /Propeller side front\n",
      "[1500, 1501, 1502, 1503, 1504, 1505, 1506, 1507, 1508, 1509, 1510, 1511, 1512, 1513, 1514, 1515]\n",
      "nodes in  /Propeller side left\n",
      "[1600]\n",
      "nodes in  /Propeller side right\n",
      "[1700]\n",
      "nodes in  /Propeller top\n",
      "[1800, 1801, 1802, 1803, 1804, 1805, 1806, 1807, 1808, 1809, 1810, 1811, 1812, 1813, 1814, 1815, 1816, 1817, 1818, 1819]\n",
      "nodes in  /Propeller bottom\n",
      "[1900, 1901, 1902, 1903, 1904, 1905, 1906, 1907, 1908, 1909, 1910, 1911, 1912, 1913, 1914, 1915, 1916, 1917, 1918, 1919]\n",
      "nodes in  /Propeller side back\n",
      "[2000, 2001, 2002, 2003, 2004, 2005, 2006, 2007, 2008, 2009, 2010, 2011, 2012, 2013, 2014, 2015]\n",
      "nodes in  /Band S front\n",
      "[2100, 2101, 2102, 2103, 2104, 2105, 2106, 2107, 2108, 2109, 2110, 2111, 2112, 2113, 2114, 2115]\n",
      "nodes in  /Band S bottom\n",
      "[2200, 2201, 2202, 2203, 2204, 2205, 2206, 2207, 2208, 2209, 2210, 2211, 2212, 2213, 2214, 2215]\n",
      "nodes in  /Batteries\n",
      "[2300, 2301, 2302, 2303, 2304, 2305, 2306, 2400, 2401, 2402, 2403, 2404, 2405, 2406]\n",
      "nodes in  /Transponder (1)\n",
      "[2500, 2501, 2502, 2503, 2504, 2505, 2506]\n",
      "nodes in  /Printed Circuits\n",
      "[2600, 2601, 2602, 2603, 2604, 2605, 2606]\n",
      "nodes in  /Powercard P60\n",
      "[2700, 2701, 2702, 2703, 2704, 2705, 2706]\n",
      "nodes in  Space Node\n",
      "[99999999]\n"
     ]
    }
   ],
   "source": [
    "from pythermica import  Thermica\n",
    "\n",
    "path = \"./simulation_1/results_1/\"\n",
    "\n",
    "therm_results = Thermica(path)"
   ]
  },
  {
   "cell_type": "code",
   "execution_count": 3,
   "metadata": {},
   "outputs": [
    {
     "name": "stdout",
     "output_type": "stream",
     "text": [
      "WARNING : Multiple files match the temperature extention\n",
      "\n",
      " the temperature files are :\n",
      "[PosixPath('simulation_1/results_1/ionsat_deployed.temp.h5'), PosixPath('simulation_1/results_1/ionsat_deployed_3.0.temp.h5')]\n",
      "\t - Model : <HDF5 group \"/Model\" (3 members)>\n",
      "\t\t - NbWavelength : <HDF5 dataset \"NbWavelength\": shape (1,), type \"<i4\">\n",
      "\t\t\t\t - unit : \n",
      "\t\t - Nodes : <HDF5 dataset \"Nodes\": shape (856,), type \"|V132\">\n",
      "\t\t\t\t - unit : nodes\n",
      "\t\t - Wavelength : <HDF5 dataset \"Wavelength\": shape (1,), type \"<f8\">\n",
      "\t\t\t\t - unit : micro-m\n",
      "\t - Posther : <HDF5 group \"/Posther\" (0 members)>\n",
      "\t - Results : <HDF5 group \"/Results\" (6 members)>\n",
      "\t\t - Couplings : <HDF5 group \"/Results/Couplings\" (6 members)>\n",
      "\t\t\t - GL : <HDF5 dataset \"GL\": shape (2962,), type \"<f8\">\n",
      "\t\t\t\t\t - unit : W/K\n",
      "\t\t\t - GL Status : <HDF5 dataset \"GL Status\": shape (2962,), type \"|S1\">\n",
      "\t\t\t\t\t - unit : Statut\n",
      "\t\t\t - GR : <HDF5 dataset \"GR\": shape (19565,), type \"<f8\">\n",
      "\t\t\t\t\t - unit : m2\n",
      "\t\t\t - GR Status : <HDF5 dataset \"GR Status\": shape (19565,), type \"|S1\">\n",
      "\t\t\t\t\t - unit : Statut\n",
      "\t\t\t - PCS : <HDF5 dataset \"PCS\": shape (95244,), type \"<i4\">\n",
      "\t\t\t\t\t - unit : .\n",
      "\t\t\t - PCSP : <HDF5 dataset \"PCSP\": shape (856,), type \"<i4\">\n",
      "\t\t\t\t\t - unit : .\n",
      "\t\t - Electric : <HDF5 group \"/Results/Electric\" (0 members)>\n",
      "\t\t - Outgassing : <HDF5 group \"/Results/Outgassing\" (0 members)>\n",
      "\t\t - Properties : <HDF5 group \"/Results/Properties\" (5 members)>\n",
      "\t\t\t - Alpha : <HDF5 dataset \"Alpha\": shape (856,), type \"<f8\">\n",
      "\t\t\t\t\t - unit : coeff\n",
      "\t\t\t - Area : <HDF5 dataset \"Area\": shape (856,), type \"<f8\">\n",
      "\t\t\t\t\t - unit : m²\n",
      "\t\t\t - Capacity : <HDF5 dataset \"Capacity\": shape (856,), type \"<f8\">\n",
      "\t\t\t\t\t - unit : W.sec/K\n",
      "\t\t\t - Epsilon : <HDF5 dataset \"Epsilon\": shape (856,), type \"<f8\">\n",
      "\t\t\t\t\t - unit : coeff\n",
      "\t\t\t - Node Status : <HDF5 dataset \"Node Status\": shape (856,), type \"|S1\">\n",
      "\t\t\t\t\t - unit : Status\n",
      "\t\t - Thermal : <HDF5 group \"/Results/Thermal\" (6 members)>\n",
      "\t\t\t - Albedo fluxes : <HDF5 dataset \"Albedo fluxes\": shape (856, 1092), type \"<f8\">\n",
      "\t\t\t\t\t - unit : W\n",
      "\t\t\t\t\t - time reference : /Time/Frequency 1\n",
      "\t\t\t - Internal dissipations : <HDF5 dataset \"Internal dissipations\": shape (856, 1092), type \"<f8\">\n",
      "\t\t\t\t\t - unit : W\n",
      "\t\t\t\t\t - time reference : /Time/Frequency 1\n",
      "\t\t\t - Planet IR fluxes : <HDF5 dataset \"Planet IR fluxes\": shape (856, 1092), type \"<f8\">\n",
      "\t\t\t\t\t - unit : W\n",
      "\t\t\t\t\t - time reference : /Time/Frequency 1\n",
      "\t\t\t - Residual fluxes : <HDF5 dataset \"Residual fluxes\": shape (856, 1092), type \"<f8\">\n",
      "\t\t\t\t\t - unit : W\n",
      "\t\t\t\t\t - time reference : /Time/Frequency 1\n",
      "\t\t\t - Solar fluxes : <HDF5 dataset \"Solar fluxes\": shape (856, 1092), type \"<f8\">\n",
      "\t\t\t\t\t - unit : W\n",
      "\t\t\t\t\t - time reference : /Time/Frequency 1\n",
      "\t\t\t - Temperatures : <HDF5 dataset \"Temperatures\": shape (856, 1092), type \"<f8\">\n",
      "\t\t\t\t\t - unit : Celsius\n",
      "\t\t\t\t\t - time reference : /Time/Frequency 1\n",
      "\t\t - Variables : <HDF5 group \"/Results/Variables\" (0 members)>\n",
      "\t - Run Info : <HDF5 group \"/Run Info\" (0 members)>\n",
      "\t - Time : <HDF5 group \"/Time\" (2 members)>\n",
      "\t\t - Frequency 1 : <HDF5 dataset \"Frequency 1\": shape (1092,), type \"<f8\">\n",
      "\t\t\t\t - unit : GAMMA50\n",
      "\t\t - Simulation reference time : <HDF5 dataset \"Simulation reference time\": shape (1,), type \"<f8\">\n",
      "\t\t\t\t - unit : seconds\n"
     ]
    }
   ],
   "source": [
    "therm_results.dump_result_file_structure()"
   ]
  },
  {
   "cell_type": "code",
   "execution_count": 4,
   "metadata": {},
   "outputs": [
    {
     "name": "stdout",
     "output_type": "stream",
     "text": [
      "WARNING : Multiple files match the temperature extention\n",
      "\n",
      " the temperature files are :\n",
      "[PosixPath('simulation_1/results_1/ionsat_deployed.temp.h5'), PosixPath('simulation_1/results_1/ionsat_deployed_3.0.temp.h5')]\n"
     ]
    },
    {
     "data": {
      "text/plain": [
       "array([[  13.50212599,   13.41531082,   13.10008525, ...,   18.30320763,\n",
       "          17.63719364,   17.27436063],\n",
       "       [  13.73578949,   13.64852762,   13.37289958, ...,   19.30549515,\n",
       "          18.70430939,   18.37321733],\n",
       "       [  14.15312071,   14.07784659,   13.83681234, ...,   20.32232511,\n",
       "          19.77440593,   19.46961828],\n",
       "       ...,\n",
       "       [  23.01721667,   23.01883211,   23.01478254, ...,   27.98778838,\n",
       "          27.95008015,   27.92357391],\n",
       "       [  22.90932594,   22.90908375,   22.89964166, ...,   27.86153319,\n",
       "          27.81712587,   27.78700522],\n",
       "       [-269.        , -269.        , -269.        , ..., -269.        ,\n",
       "        -269.        , -269.        ]])"
      ]
     },
     "execution_count": 4,
     "metadata": {},
     "output_type": "execute_result"
    }
   ],
   "source": [
    "therm_results.get_temperature()"
   ]
  },
  {
   "cell_type": "code",
   "execution_count": null,
   "metadata": {},
   "outputs": [],
   "source": []
  }
 ],
 "metadata": {
  "kernelspec": {
   "display_name": "Python 3",
   "language": "python",
   "name": "python3"
  },
  "language_info": {
   "codemirror_mode": {
    "name": "ipython",
    "version": 3
   },
   "file_extension": ".py",
   "mimetype": "text/x-python",
   "name": "python",
   "nbconvert_exporter": "python",
   "pygments_lexer": "ipython3",
   "version": "3.10.1"
  }
 },
 "nbformat": 4,
 "nbformat_minor": 4
}
