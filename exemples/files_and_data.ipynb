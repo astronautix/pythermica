{
 "cells": [
  {
   "cell_type": "code",
   "execution_count": 1,
   "metadata": {},
   "outputs": [
    {
     "name": "stdout",
     "output_type": "stream",
     "text": [
      "Initializing Thermica at path :\n",
      "./simulation_1/results_1/\n",
      "Files present in the path :\n",
      "./simulation_1/results_1/ionsat_deployed_3.0.pf.h5\n",
      "./simulation_1/results_1/ionsat_deployed_3.0.rad.h5\n",
      "./simulation_1/results_1/ionsat_deployed_3.1.pf.h5\n",
      "./simulation_1/results_1/ionsat_deployed_3.1.rad.h5\n",
      "./simulation_1/results_1/ionsat_deployed_3.1.edg.h5\n",
      "./simulation_1/results_1/ionsat_deployed.temp.h5\n",
      "./simulation_1/results_1/ionsat_deployed_3.1.sf.h5\n",
      "./simulation_1/results_1/ionsat_deployed_3.0.edg.h5\n",
      "./simulation_1/results_1/ionsat_deployed_3.1.box.h5\n",
      "./simulation_1/results_1/ionsat_deployed_3.0.sf.h5\n",
      "./simulation_1/results_1/ionsat_deployed_3.0.box.h5\n",
      "We have some names :\n",
      "/Chassis bottom center\n",
      "/Chassis bottom left\n",
      "/Chassis bottom right\n",
      "/Chassis side front\n",
      "/Chassis side back left\n",
      "/Chassis side back right\n",
      "/Chassis side left\n",
      "/Chassis side right\n",
      "/Chassis top\n",
      "/Chassis propeller support left\n",
      "/Chassis propeller support right\n",
      "/Solar panel center\n",
      "/Solar panel left\n",
      "/Solar panel right\n",
      "/Propeller side front\n",
      "/Propeller side left\n",
      "/Propeller side right\n",
      "/Propeller top\n",
      "/Propeller bottom\n",
      "/Propeller side back\n",
      "/Band S front\n",
      "/Band S bottom\n",
      "/Batteries\n",
      "/Transponder (1)\n",
      "/Printed Circuits\n",
      "/Powercard P60\n",
      "Space Node\n",
      "\n",
      "56 nodes in  /Chassis bottom center  starting at 100\n",
      "10 nodes in  /Chassis bottom left  starting at 200\n",
      "10 nodes in  /Chassis bottom right  starting at 300\n",
      "32 nodes in  /Chassis side front  starting at 400\n",
      "8 nodes in  /Chassis side back left  starting at 500\n",
      "8 nodes in  /Chassis side back right  starting at 600\n",
      "96 nodes in  /Chassis side left  starting at 700\n",
      "96 nodes in  /Chassis side right  starting at 800\n",
      "96 nodes in  /Chassis top  starting at 900\n",
      "20 nodes in  /Chassis propeller support left  starting at 1000\n",
      "20 nodes in  /Chassis propeller support right  starting at 1100\n",
      "70 nodes in  /Solar panel center  starting at 1200\n",
      "96 nodes in  /Solar panel left  starting at 1300\n",
      "96 nodes in  /Solar panel right  starting at 1400\n",
      "16 nodes in  /Propeller side front  starting at 1500\n",
      "1 nodes in  /Propeller side left  starting at 1600\n",
      "1 nodes in  /Propeller side right  starting at 1700\n",
      "20 nodes in  /Propeller top  starting at 1800\n",
      "20 nodes in  /Propeller bottom  starting at 1900\n",
      "16 nodes in  /Propeller side back  starting at 2000\n",
      "16 nodes in  /Band S front  starting at 2100\n",
      "16 nodes in  /Band S bottom  starting at 2200\n",
      "14 nodes in  /Batteries  starting at 2300\n",
      "7 nodes in  /Transponder (1)  starting at 2500\n",
      "7 nodes in  /Printed Circuits  starting at 2600\n",
      "7 nodes in  /Powercard P60  starting at 2700\n",
      "1 nodes in  Space Node  starting at 99999999\n"
     ]
    }
   ],
   "source": [
    "from pythermica import  Thermica\n",
    "\n",
    "path = \"./simulation_1/results_1/\"\n",
    "\n",
    "therm_results = Thermica(path)"
   ]
  },
  {
   "cell_type": "code",
   "execution_count": 2,
   "metadata": {},
   "outputs": [
    {
     "name": "stdout",
     "output_type": "stream",
     "text": [
      "\t - Model : <HDF5 group \"/Model\" (3 members)>\n",
      "\t\t - NbWavelength : <HDF5 dataset \"NbWavelength\": shape (1,), type \"<i4\">\n",
      "\t\t\t\t - unit : \n",
      "\t\t - Nodes : <HDF5 dataset \"Nodes\": shape (856,), type \"|V132\">\n",
      "\t\t\t\t - unit : nodes\n",
      "\t\t - Wavelength : <HDF5 dataset \"Wavelength\": shape (1,), type \"<f8\">\n",
      "\t\t\t\t - unit : micro-m\n",
      "\t - Posther : <HDF5 group \"/Posther\" (0 members)>\n",
      "\t - Results : <HDF5 group \"/Results\" (6 members)>\n",
      "\t\t - Couplings : <HDF5 group \"/Results/Couplings\" (6 members)>\n",
      "\t\t\t - GL : <HDF5 dataset \"GL\": shape (2962,), type \"<f8\">\n",
      "\t\t\t\t\t - unit : W/K\n",
      "\t\t\t - GL Status : <HDF5 dataset \"GL Status\": shape (2962,), type \"|S1\">\n",
      "\t\t\t\t\t - unit : Statut\n",
      "\t\t\t - GR : <HDF5 dataset \"GR\": shape (19565,), type \"<f8\">\n",
      "\t\t\t\t\t - unit : m2\n",
      "\t\t\t - GR Status : <HDF5 dataset \"GR Status\": shape (19565,), type \"|S1\">\n",
      "\t\t\t\t\t - unit : Statut\n",
      "\t\t\t - PCS : <HDF5 dataset \"PCS\": shape (95244,), type \"<i4\">\n",
      "\t\t\t\t\t - unit : .\n",
      "\t\t\t - PCSP : <HDF5 dataset \"PCSP\": shape (856,), type \"<i4\">\n",
      "\t\t\t\t\t - unit : .\n",
      "\t\t - Electric : <HDF5 group \"/Results/Electric\" (0 members)>\n",
      "\t\t - Outgassing : <HDF5 group \"/Results/Outgassing\" (0 members)>\n",
      "\t\t - Properties : <HDF5 group \"/Results/Properties\" (5 members)>\n",
      "\t\t\t - Alpha : <HDF5 dataset \"Alpha\": shape (856,), type \"<f8\">\n",
      "\t\t\t\t\t - unit : coeff\n",
      "\t\t\t - Area : <HDF5 dataset \"Area\": shape (856,), type \"<f8\">\n",
      "\t\t\t\t\t - unit : m²\n",
      "\t\t\t - Capacity : <HDF5 dataset \"Capacity\": shape (856,), type \"<f8\">\n",
      "\t\t\t\t\t - unit : W.sec/K\n",
      "\t\t\t - Epsilon : <HDF5 dataset \"Epsilon\": shape (856,), type \"<f8\">\n",
      "\t\t\t\t\t - unit : coeff\n",
      "\t\t\t - Node Status : <HDF5 dataset \"Node Status\": shape (856,), type \"|S1\">\n",
      "\t\t\t\t\t - unit : Status\n",
      "\t\t - Thermal : <HDF5 group \"/Results/Thermal\" (6 members)>\n",
      "\t\t\t - Albedo fluxes : <HDF5 dataset \"Albedo fluxes\": shape (856, 1092), type \"<f8\">\n",
      "\t\t\t\t\t - unit : W\n",
      "\t\t\t\t\t - time reference : /Time/Frequency 1\n",
      "\t\t\t - Internal dissipations : <HDF5 dataset \"Internal dissipations\": shape (856, 1092), type \"<f8\">\n",
      "\t\t\t\t\t - unit : W\n",
      "\t\t\t\t\t - time reference : /Time/Frequency 1\n",
      "\t\t\t - Planet IR fluxes : <HDF5 dataset \"Planet IR fluxes\": shape (856, 1092), type \"<f8\">\n",
      "\t\t\t\t\t - unit : W\n",
      "\t\t\t\t\t - time reference : /Time/Frequency 1\n",
      "\t\t\t - Residual fluxes : <HDF5 dataset \"Residual fluxes\": shape (856, 1092), type \"<f8\">\n",
      "\t\t\t\t\t - unit : W\n",
      "\t\t\t\t\t - time reference : /Time/Frequency 1\n",
      "\t\t\t - Solar fluxes : <HDF5 dataset \"Solar fluxes\": shape (856, 1092), type \"<f8\">\n",
      "\t\t\t\t\t - unit : W\n",
      "\t\t\t\t\t - time reference : /Time/Frequency 1\n",
      "\t\t\t - Temperatures : <HDF5 dataset \"Temperatures\": shape (856, 1092), type \"<f8\">\n",
      "\t\t\t\t\t - unit : Celsius\n",
      "\t\t\t\t\t - time reference : /Time/Frequency 1\n",
      "\t\t - Variables : <HDF5 group \"/Results/Variables\" (0 members)>\n",
      "\t - Run Info : <HDF5 group \"/Run Info\" (0 members)>\n",
      "\t - Time : <HDF5 group \"/Time\" (2 members)>\n",
      "\t\t - Frequency 1 : <HDF5 dataset \"Frequency 1\": shape (1092,), type \"<f8\">\n",
      "\t\t\t\t - unit : GAMMA50\n",
      "\t\t - Simulation reference time : <HDF5 dataset \"Simulation reference time\": shape (1,), type \"<f8\">\n",
      "\t\t\t\t - unit : seconds\n"
     ]
    }
   ],
   "source": [
    "therm_results.dump_result_file_structure()"
   ]
  },
  {
   "cell_type": "code",
   "execution_count": 3,
   "metadata": {},
   "outputs": [
    {
     "data": {
      "text/plain": [
       "array([[  13.50212599,   13.41531082,   13.10008525, ...,   18.30320763,\n",
       "          17.63719364,   17.27436063],\n",
       "       [  13.73578949,   13.64852762,   13.37289958, ...,   19.30549515,\n",
       "          18.70430939,   18.37321733],\n",
       "       [  14.15312071,   14.07784659,   13.83681234, ...,   20.32232511,\n",
       "          19.77440593,   19.46961828],\n",
       "       ...,\n",
       "       [  23.01721667,   23.01883211,   23.01478254, ...,   27.98778838,\n",
       "          27.95008015,   27.92357391],\n",
       "       [  22.90932594,   22.90908375,   22.89964166, ...,   27.86153319,\n",
       "          27.81712587,   27.78700522],\n",
       "       [-269.        , -269.        , -269.        , ..., -269.        ,\n",
       "        -269.        , -269.        ]])"
      ]
     },
     "execution_count": 3,
     "metadata": {},
     "output_type": "execute_result"
    }
   ],
   "source": [
    "therm_results.get_temperature()"
   ]
  },
  {
   "cell_type": "code",
   "execution_count": null,
   "metadata": {},
   "outputs": [],
   "source": []
  }
 ],
 "metadata": {
  "kernelspec": {
   "display_name": "Python 3",
   "language": "python",
   "name": "python3"
  },
  "language_info": {
   "codemirror_mode": {
    "name": "ipython",
    "version": 3
   },
   "file_extension": ".py",
   "mimetype": "text/x-python",
   "name": "python",
   "nbconvert_exporter": "python",
   "pygments_lexer": "ipython3",
   "version": "3.8.7"
  }
 },
 "nbformat": 4,
 "nbformat_minor": 4
}
